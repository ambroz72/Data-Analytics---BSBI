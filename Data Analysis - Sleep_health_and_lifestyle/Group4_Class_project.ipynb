{
  "nbformat": 4,
  "nbformat_minor": 0,
  "metadata": {
    "colab": {
      "provenance": []
    },
    "kernelspec": {
      "name": "python3",
      "display_name": "Python 3"
    },
    "language_info": {
      "name": "python"
    }
  },
  "cells": [
    {
      "cell_type": "markdown",
      "source": [
        "# **Health and Lifestyle Analysis**"
      ],
      "metadata": {
        "id": "aAGySluZmqX-"
      }
    },
    {
      "cell_type": "markdown",
      "source": [
        "## **Project Overview**\n",
        "\n",
        "This project aims to analyze a dataset containing various health and lifestyle metrics of individuals. The dataset includes demographic information, sleep patterns, physical activity levels, and health indicators. Through this analysis, we will explore relationships between different variables, and identify trends.\n",
        "\n",
        "\n",
        "### **Dataset Description**\n",
        "The dataset contains the following columns:\n",
        "- Person ID: Unique identifier for each individual.\n",
        "- Gender: Gender of the person (Male/Female).\n",
        "- Age: Age of the person in years.\n",
        "- Occupation: Occupation or profession of the person.\n",
        "- Sleep Duration (hours): Daily sleep duration in hours.\n",
        "- Quality of Sleep (scale: 1-10): Subjective rating of sleep quality.\n",
        "- Physical Activity Level (minutes/day): Daily physical activity in minutes.\n",
        "- Stress Level (scale: 1-10): Subjective rating of stress level.\n",
        "- BMI Category: BMI classification (Underweight, Normal, Overweight).\n",
        "- Blood Pressure (systolic/diastolic): Blood pressure measurement.\n",
        "- Heart Rate (bpm): Resting heart rate in beats per minute.\n",
        "- Daily Steps: Number of steps taken per day.\n",
        "- Sleep Disorder: Indicates whether the individual has a sleep disorder.\n",
        "\n",
        "---\n",
        "\n"
      ],
      "metadata": {
        "id": "mZTFfqE2h6Ls"
      }
    },
    {
      "cell_type": "markdown",
      "source": [
        "## **Task 1: Data Exploration**\n",
        "### **Objective**: Familiarize yourself with the dataset.\n",
        "Actions:\n",
        "- Load the dataset into a Pandas DataFrame.\n",
        "- Display the first few rows of the dataset.\n",
        "- Summarize the dataset using .describe() to understand basic statistics (mean, median, etc.).\n",
        "- Convert column names to standard format\n",
        "- Give your observations"
      ],
      "metadata": {
        "id": "RLuHwJisjGVP"
      }
    },
    {
      "cell_type": "code",
      "source": [
        "# Import libraries for data manipulation\n",
        "\n",
        "\n",
        "# Import libraries for data visualization"
      ],
      "metadata": {
        "id": "w9AqMYDYh50I"
      },
      "execution_count": 86,
      "outputs": []
    },
    {
      "cell_type": "code",
      "execution_count": 87,
      "metadata": {
        "id": "KhiPJaaphFmU"
      },
      "outputs": [],
      "source": [
        "# Load dataset\n"
      ]
    },
    {
      "cell_type": "code",
      "source": [
        "# Display the first few row\n"
      ],
      "metadata": {
        "id": "voX1I3Vcj6CC"
      },
      "execution_count": 117,
      "outputs": []
    },
    {
      "cell_type": "code",
      "source": [
        "# Summary Statistics\n"
      ],
      "metadata": {
        "id": "diu5ETcRkJmn"
      },
      "execution_count": 116,
      "outputs": []
    },
    {
      "cell_type": "markdown",
      "source": [
        "**Observations**:\n",
        "\n",
        "-"
      ],
      "metadata": {
        "id": "w_PoBA9OksGE"
      }
    },
    {
      "cell_type": "code",
      "source": [
        "# Convert column names to standard format"
      ],
      "metadata": {
        "id": "Dwey5bA8WfUB"
      },
      "execution_count": 118,
      "outputs": []
    },
    {
      "cell_type": "markdown",
      "source": [
        "### **Question 1:** How many rows and columns are present in the data?"
      ],
      "metadata": {
        "id": "DRzUpuBalQ11"
      }
    },
    {
      "cell_type": "code",
      "source": [],
      "metadata": {
        "id": "LXvgdCvSkfH8"
      },
      "execution_count": 118,
      "outputs": []
    },
    {
      "cell_type": "markdown",
      "source": [
        "### **Question 2:** What are the datatypes of the different columns in the dataset? (The info() function can be used)"
      ],
      "metadata": {
        "id": "MWwdwaW2lViV"
      }
    },
    {
      "cell_type": "code",
      "source": [],
      "metadata": {
        "id": "FcXMn6BXlV6R"
      },
      "execution_count": 115,
      "outputs": []
    },
    {
      "cell_type": "markdown",
      "source": [
        "### **Question 3**: Classify each column into the following categories:\n",
        "\n",
        "**Qualitative (Categorical)**:\n",
        "- Nominal: Variables with no inherent order\n",
        "- Ordinal: Variables with a meaningful order\n",
        "\n",
        "**Quantitative (Numerical):**\n",
        "- Discrete: Countable, integer values\n",
        "- Continuous: Measurable, can take any value within a range"
      ],
      "metadata": {
        "id": "HhVUBdONlZlT"
      }
    },
    {
      "cell_type": "code",
      "source": [],
      "metadata": {
        "id": "TH3RpNEUlcu7"
      },
      "execution_count": 92,
      "outputs": []
    },
    {
      "cell_type": "markdown",
      "source": [
        "## **Task 2: Data Cleaning and Preprocessing**\n",
        "### **Objective**: Prepare the dataset for analysis.\n",
        "Actions:\n",
        "- Check for missing values and if any, the handle missing values appropriately (e.g., fill with mean/median or drop rows/columns).\n",
        "  - Use `data.isnull().sum()` or `data.isna().sum()` to identify columns with missing values.\n",
        "- Ensure that all data types are correct (e.g., convert categorical variables to category type).\n",
        "- Create new columns if necessary (e.g., extract systolic and diastolic blood pressure from a single column)."
      ],
      "metadata": {
        "id": "xco93lb6nNMP"
      }
    },
    {
      "cell_type": "code",
      "source": [
        "# Checking for missing values\n"
      ],
      "metadata": {
        "id": "bufbw0xvnppb"
      },
      "execution_count": 93,
      "outputs": []
    },
    {
      "cell_type": "markdown",
      "source": [
        "### **Question 1**: Are there any duplicates?\n",
        "- Use `data.duplicated().sum()` to identify the number of duplicate rows."
      ],
      "metadata": {
        "id": "dq3S7yr-n64v"
      }
    },
    {
      "cell_type": "code",
      "source": [
        "# Check for duplicates"
      ],
      "metadata": {
        "id": "DWdIxrYEn8hp"
      },
      "execution_count": 94,
      "outputs": []
    },
    {
      "cell_type": "markdown",
      "source": [
        "## **Task 3: Exploratory Data Analysis (EDA)**\n",
        "Exploratory Data Analysis (EDA) is a critical step in the data analysis process that involves summarizing the main characteristics of a dataset, often using visual methods.\n",
        "\n",
        "### **Univariate Analysis**\n",
        "Univariate Analysis is the simplest form of data analysis, where \"uni\" means \"one.\" This type of analysis examines one variable independently without considering relationships with other variables.\n",
        "\n",
        "**Objective**: Analyze individual variables to understand their distributions and characteristics.\n",
        "\n",
        "Actions:\n",
        "- Perform univariate analysis on key numerical variables such as `Age`, `Sleep Duration`, `Physical Activity Level`, `Daily Steps`, `Blood Pressure`, and `Heart Rate`.\n",
        "- Visualize distributions of these numerical variables using histograms and box plots to identify patterns, central tendencies, and outliers.\n",
        "- Conduct univariate analysis on categorical variables such as `Gender`, `Occupation`, `BMI Category`, `Quality of Sleep`, `Stress Level`, and `Sleep Disorder`. Use frequency counts and bar charts to summarize these variables.\n",
        "- Identify any outliers in numerical data that may require further investigation or cleaning.\n",
        "- Give your observations."
      ],
      "metadata": {
        "id": "VKx1j6WDoGIZ"
      }
    },
    {
      "cell_type": "code",
      "source": [],
      "metadata": {
        "id": "vEyC-ac2jSyr"
      },
      "execution_count": 115,
      "outputs": []
    },
    {
      "cell_type": "markdown",
      "source": [
        "**Question 1**: What is the distribution of gender in the dataset (percentage of males vs. females)?"
      ],
      "metadata": {
        "id": "RxXAWF7vpIOe"
      }
    },
    {
      "cell_type": "code",
      "source": [],
      "metadata": {
        "id": "gFpOLJtaqSRs"
      },
      "execution_count": null,
      "outputs": []
    },
    {
      "cell_type": "markdown",
      "source": [
        "**Question 2**: What is the average age of individuals in the dataset?"
      ],
      "metadata": {
        "id": "eB4kx-OSpbLO"
      }
    },
    {
      "cell_type": "code",
      "source": [],
      "metadata": {
        "id": "Awk9M70HqSo1"
      },
      "execution_count": null,
      "outputs": []
    },
    {
      "cell_type": "markdown",
      "source": [
        "**Question 3**: What are the most common occupations represented in the dataset?"
      ],
      "metadata": {
        "id": "URVdVmiBpioY"
      }
    },
    {
      "cell_type": "code",
      "source": [],
      "metadata": {
        "id": "wn0CpCTkqS80"
      },
      "execution_count": null,
      "outputs": []
    },
    {
      "cell_type": "markdown",
      "source": [
        "**Question 4**: What is the average sleep duration reported by participants?"
      ],
      "metadata": {
        "id": "9bivpfcNptOt"
      }
    },
    {
      "cell_type": "code",
      "source": [],
      "metadata": {
        "id": "4bj558PoqTkc"
      },
      "execution_count": null,
      "outputs": []
    },
    {
      "cell_type": "markdown",
      "source": [
        "## **Task 4: Anomaly, and Outlier Detection**\n",
        "### **Objective**: Identify and manage anomalies in the dataset.\n",
        "Actions:\n",
        "- Visualize distributions of key numerical variables using boxplots or histograms to identify outliers.\n",
        "- Use the Interquartile Range (IQR) method to detect outliers in at least two numerical columns (e.g., Sleep Duration, Daily Steps).\n",
        "  - Calculate the Quartiles first quartile (Q1) and third quartile Q3\n",
        "  - Compute the $IQR = Q3 - Q1$\n",
        "  - Determine the Bounds\n",
        "    - Lower Bound: $Q1 - 1.5 \\times IQR$\n",
        "    - Upper Bound: $Q3 + 1.5 \\times IQR$\n",
        "    - Identify Outliers\n",
        "- Decide whether to remove or adjust outliers based on your analysis.\n",
        "\n",
        "- Give your observations."
      ],
      "metadata": {
        "id": "eXZJkfBwpYWT"
      }
    },
    {
      "cell_type": "code",
      "source": [],
      "metadata": {
        "id": "a6vU-8b1dIT8"
      },
      "execution_count": null,
      "outputs": []
    },
    {
      "cell_type": "markdown",
      "source": [
        "## **Task 5: Data Normalization**\n",
        "### **Objective**: Prepare data for comparative analysis.\n",
        "\n",
        "Actions:\n",
        "- Select numerical columns that require normalization (e.g., Age, Sleep Duration, Physical Activity Level).\n",
        "- Apply Min-Max scaling or Z-score normalization to these columns.\n",
        "- Create a new DataFrame to store normalized values alongside original data for comparison.\n",
        "\n",
        "- Give your observations."
      ],
      "metadata": {
        "id": "KrhsxmBXgF0R"
      }
    },
    {
      "cell_type": "code",
      "source": [],
      "metadata": {
        "id": "89PVLxgWtNLM"
      },
      "execution_count": null,
      "outputs": []
    }
  ]
}